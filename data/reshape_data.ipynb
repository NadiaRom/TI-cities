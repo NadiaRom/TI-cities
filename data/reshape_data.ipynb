{
 "cells": [
  {
   "cell_type": "code",
   "execution_count": 7,
   "metadata": {},
   "outputs": [],
   "source": [
    "import pandas as pd, json"
   ]
  },
  {
   "cell_type": "code",
   "execution_count": 8,
   "metadata": {},
   "outputs": [],
   "source": [
    "df_geo = pd.read_csv('geocoded.csv')\n",
    "df_geo.city = df_geo.city.str.replace('Володимир Волинський', 'Володимир-Волинський'\n",
    "                        ).str.replace('Білгород Дністровський', 'Білгород-Дністровський')"
   ]
  },
  {
   "cell_type": "code",
   "execution_count": 16,
   "metadata": {
    "code_folding": []
   },
   "outputs": [],
   "source": [
    "# df_geo.reindex(['city', 'lat', 'lon', 'district'], axis=1\n",
    "#       ).drop_duplicates(\n",
    "#       ).to_csv('geocoded.csv', index=False)"
   ]
  },
  {
   "cell_type": "code",
   "execution_count": 12,
   "metadata": {},
   "outputs": [
    {
     "data": {
      "text/plain": [
       "no     78\n",
       "yes    22\n",
       "Name: district, dtype: int64"
      ]
     },
     "execution_count": 12,
     "metadata": {},
     "output_type": "execute_result"
    }
   ],
   "source": [
    "df_geo.district.value_counts()"
   ]
  },
  {
   "cell_type": "code",
   "execution_count": 17,
   "metadata": {},
   "outputs": [],
   "source": [
    "df = pd.read_excel('100 міст- файл для правильного внесення балів по містах (1).xlsx',\n",
    "                   sheet_name='100 міст_2017_2018')\n",
    "df = df.reindex(list(filter(lambda s: not ' VS ' in s, df.columns)), axis=1)\n",
    "df = pd.melt(df, id_vars=df.columns[:4], value_vars=df.columns[4:])\n",
    "df.columns = ['city', 'rank_2017', 'points_2017', 'points_2018', 'indicator', 'value']\n",
    "df['year'] = df.indicator.str.extract('(\\d{4}) ?$').astype(int)\n",
    "df.city = df.city.str.strip(\n",
    "                ).str.replace('\\s*?-\\s*', '-'\n",
    "                ).str.replace('Кременчуг', 'Кременчук'\n",
    "                ).str.replace('Подільск', 'Подільськ'\n",
    "                ).str.replace('Севєродонецьк', 'Сєвєродонецьк'\n",
    "                ).str.replace('Первомайск', 'Первомайськ')\n",
    "df.indicator = df.indicator.str.replace('\\s*\\d{4} ?$', '')\n",
    "df = df.drop(['rank_2017', 'points_2017', 'points_2018'], axis=1)\n",
    "\n",
    "totals = df.groupby(['city', 'year'], as_index=True).sum().reset_index()\n",
    "totals['indicator'] = 'Загальний бал'\n",
    "\n",
    "df = df.append(totals, ignore_index=True, sort=False).sort_values(['city', 'indicator','year'])\n",
    "\n",
    "df = df.merge(df_geo, how='left')"
   ]
  },
  {
   "cell_type": "code",
   "execution_count": 19,
   "metadata": {},
   "outputs": [],
   "source": [
    "# df.to_csv('data_long.csv', index=False)"
   ]
  },
  {
   "cell_type": "code",
   "execution_count": 8,
   "metadata": {},
   "outputs": [],
   "source": [
    "pd.Series(dict(pd.read_csv('indicators_max.csv').values)\n",
    "         ).to_json('indicators_max.json', force_ascii=False)"
   ]
  },
  {
   "cell_type": "code",
   "execution_count": null,
   "metadata": {},
   "outputs": [],
   "source": []
  }
 ],
 "metadata": {
  "kernelspec": {
   "display_name": "Python 3",
   "language": "python",
   "name": "python3"
  },
  "language_info": {
   "codemirror_mode": {
    "name": "ipython",
    "version": 3
   },
   "file_extension": ".py",
   "mimetype": "text/x-python",
   "name": "python",
   "nbconvert_exporter": "python",
   "pygments_lexer": "ipython3",
   "version": "3.7.1"
  },
  "toc": {
   "nav_menu": {},
   "number_sections": true,
   "sideBar": true,
   "skip_h1_title": false,
   "title_cell": "Table of Contents",
   "title_sidebar": "Contents",
   "toc_cell": false,
   "toc_position": {},
   "toc_section_display": true,
   "toc_window_display": false
  },
  "varInspector": {
   "cols": {
    "lenName": 16,
    "lenType": 16,
    "lenVar": 40
   },
   "kernels_config": {
    "python": {
     "delete_cmd_postfix": "",
     "delete_cmd_prefix": "del ",
     "library": "var_list.py",
     "varRefreshCmd": "print(var_dic_list())"
    },
    "r": {
     "delete_cmd_postfix": ") ",
     "delete_cmd_prefix": "rm(",
     "library": "var_list.r",
     "varRefreshCmd": "cat(var_dic_list()) "
    }
   },
   "types_to_exclude": [
    "module",
    "function",
    "builtin_function_or_method",
    "instance",
    "_Feature"
   ],
   "window_display": false
  }
 },
 "nbformat": 4,
 "nbformat_minor": 2
}
